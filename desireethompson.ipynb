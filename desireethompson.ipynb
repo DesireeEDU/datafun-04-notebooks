{
 "cells": [
  {
   "cell_type": "markdown",
   "id": "bfc4713b-ff72-42e6-b14b-a7a34a053441",
   "metadata": {
    "tags": []
   },
   "source": [
    "# Desiree Thompson - Module 4 Project"
   ]
  },
  {
   "cell_type": "markdown",
   "id": "35a78b31-5603-46b1-ac1d-f8da8b36e0f9",
   "metadata": {
    "tags": []
   },
   "source": [
    "February 3, 2023"
   ]
  },
  {
   "cell_type": "markdown",
   "id": "92ad40c1-3413-4474-9b6e-d5b8b3ad760b",
   "metadata": {
    "tags": []
   },
   "source": [
    "Practice utilizing Pandas and Numpy within Jupyter Lab to work through specified examples to gain proficiency in these areas"
   ]
  },
  {
   "cell_type": "markdown",
   "id": "a5734f8e-666b-4bb1-b0fe-1768ae73d7b9",
   "metadata": {},
   "source": [
    "## Task 1 Series"
   ]
  },
  {
   "cell_type": "code",
   "execution_count": 1,
   "id": "2b0baac7-7483-4a6a-af14-d9d54f310a10",
   "metadata": {},
   "outputs": [],
   "source": [
    "import pandas as pd"
   ]
  },
  {
   "cell_type": "code",
   "execution_count": 2,
   "id": "5b2dfbee-de43-47ba-b312-d12c7593ad21",
   "metadata": {},
   "outputs": [
    {
     "data": {
      "text/plain": [
       "87"
      ]
     },
     "execution_count": 2,
     "metadata": {},
     "output_type": "execute_result"
    }
   ],
   "source": [
    "grades = pd.Series([87, 100, 94])\n",
    "grades[0]"
   ]
  },
  {
   "cell_type": "code",
   "execution_count": 3,
   "id": "14b61ad4-7f90-4ccc-bb91-80125769f665",
   "metadata": {},
   "outputs": [
    {
     "data": {
      "text/plain": [
       "3"
      ]
     },
     "execution_count": 3,
     "metadata": {},
     "output_type": "execute_result"
    }
   ],
   "source": [
    "grades.count()"
   ]
  },
  {
   "cell_type": "code",
   "execution_count": 4,
   "id": "3f364067-0194-4425-af77-2bb44ffeba87",
   "metadata": {},
   "outputs": [
    {
     "data": {
      "text/plain": [
       "93.66666666666667"
      ]
     },
     "execution_count": 4,
     "metadata": {},
     "output_type": "execute_result"
    }
   ],
   "source": [
    "grades.mean()"
   ]
  },
  {
   "cell_type": "code",
   "execution_count": 5,
   "id": "17b5689c-8481-4130-9efc-a1ee56edc60e",
   "metadata": {},
   "outputs": [
    {
     "data": {
      "text/plain": [
       "87"
      ]
     },
     "execution_count": 5,
     "metadata": {},
     "output_type": "execute_result"
    }
   ],
   "source": [
    "grades.min()"
   ]
  },
  {
   "cell_type": "code",
   "execution_count": 6,
   "id": "d8b64388-956c-4be0-828f-cf1fa6c26523",
   "metadata": {},
   "outputs": [
    {
     "data": {
      "text/plain": [
       "100"
      ]
     },
     "execution_count": 6,
     "metadata": {},
     "output_type": "execute_result"
    }
   ],
   "source": [
    "grades.max()"
   ]
  },
  {
   "cell_type": "code",
   "execution_count": 7,
   "id": "6d94419f-d0bb-48b0-9b08-85def178f01b",
   "metadata": {},
   "outputs": [
    {
     "data": {
      "text/plain": [
       "6.506407098647712"
      ]
     },
     "execution_count": 7,
     "metadata": {},
     "output_type": "execute_result"
    }
   ],
   "source": [
    "grades.std()"
   ]
  },
  {
   "cell_type": "code",
   "execution_count": 8,
   "id": "b2e61a4a-5c4f-4d81-b4fd-541b4f28d8a4",
   "metadata": {},
   "outputs": [
    {
     "data": {
      "text/plain": [
       "count      3.000000\n",
       "mean      93.666667\n",
       "std        6.506407\n",
       "min       87.000000\n",
       "25%       90.500000\n",
       "50%       94.000000\n",
       "75%       97.000000\n",
       "max      100.000000\n",
       "dtype: float64"
      ]
     },
     "execution_count": 8,
     "metadata": {},
     "output_type": "execute_result"
    }
   ],
   "source": [
    "grades.describe()"
   ]
  },
  {
   "cell_type": "markdown",
   "id": "3e7819af-fe24-41dd-9cb0-257c53802b32",
   "metadata": {},
   "source": [
    "## Task 2 - Series from Dictionary"
   ]
  },
  {
   "cell_type": "code",
   "execution_count": 9,
   "id": "0db585a2-6c55-4b33-b719-72273f516a08",
   "metadata": {},
   "outputs": [
    {
     "data": {
      "text/plain": [
       "100"
      ]
     },
     "execution_count": 9,
     "metadata": {},
     "output_type": "execute_result"
    }
   ],
   "source": [
    "grades = pd.Series({'Wally':87, 'Eva':100, 'Sam':94})\n",
    "grades['Eva']"
   ]
  },
  {
   "cell_type": "code",
   "execution_count": 10,
   "id": "365787c2-d8ca-4519-b26f-68100134c6c0",
   "metadata": {},
   "outputs": [
    {
     "data": {
      "text/plain": [
       "87"
      ]
     },
     "execution_count": 10,
     "metadata": {},
     "output_type": "execute_result"
    }
   ],
   "source": [
    "grades.Wally"
   ]
  },
  {
   "cell_type": "code",
   "execution_count": 11,
   "id": "f7bb4511-7715-4bdb-8f6f-aac677aa312a",
   "metadata": {},
   "outputs": [
    {
     "data": {
      "text/plain": [
       "array([ 87, 100,  94], dtype=int64)"
      ]
     },
     "execution_count": 11,
     "metadata": {},
     "output_type": "execute_result"
    }
   ],
   "source": [
    "grades.values"
   ]
  },
  {
   "cell_type": "code",
   "execution_count": 12,
   "id": "ba8cb95a-d414-4450-921d-78fb5f2a59cb",
   "metadata": {},
   "outputs": [],
   "source": [
    "import numpy as  np\n",
    "temps = np.random.randint(60, 101, 6)"
   ]
  },
  {
   "cell_type": "code",
   "execution_count": 13,
   "id": "cc2b6082-e82c-4c2b-83a7-7f0dfa6eebd2",
   "metadata": {},
   "outputs": [],
   "source": [
    "temperatures = pd.Series(temps)"
   ]
  },
  {
   "cell_type": "code",
   "execution_count": 14,
   "id": "c07d7514-36ac-406c-b6be-b4a2441d91c5",
   "metadata": {},
   "outputs": [
    {
     "data": {
      "text/plain": [
       "0    61\n",
       "1    82\n",
       "2    72\n",
       "3    80\n",
       "4    79\n",
       "5    77\n",
       "dtype: int32"
      ]
     },
     "execution_count": 14,
     "metadata": {},
     "output_type": "execute_result"
    }
   ],
   "source": [
    "temperatures"
   ]
  },
  {
   "cell_type": "code",
   "execution_count": 15,
   "id": "6e8aa6df-e990-490c-8ba7-292460089235",
   "metadata": {},
   "outputs": [
    {
     "data": {
      "text/plain": [
       "61"
      ]
     },
     "execution_count": 15,
     "metadata": {},
     "output_type": "execute_result"
    }
   ],
   "source": [
    "temperatures.min()"
   ]
  },
  {
   "cell_type": "code",
   "execution_count": 16,
   "id": "bc76e707-b139-42fa-a4cd-f1408f4be7b1",
   "metadata": {},
   "outputs": [
    {
     "data": {
      "text/plain": [
       "82"
      ]
     },
     "execution_count": 16,
     "metadata": {},
     "output_type": "execute_result"
    }
   ],
   "source": [
    "temperatures.max()"
   ]
  },
  {
   "cell_type": "code",
   "execution_count": 17,
   "id": "9eec7ee1-55e0-4bb4-90fb-bdd25c1e6c35",
   "metadata": {},
   "outputs": [
    {
     "data": {
      "text/plain": [
       "75.16666666666667"
      ]
     },
     "execution_count": 17,
     "metadata": {},
     "output_type": "execute_result"
    }
   ],
   "source": [
    "temperatures.mean()"
   ]
  },
  {
   "cell_type": "code",
   "execution_count": 18,
   "id": "3c7aa3ed-3065-4359-ba6c-091c2c35727c",
   "metadata": {},
   "outputs": [
    {
     "data": {
      "text/plain": [
       "count     6.000000\n",
       "mean     75.166667\n",
       "std       7.730890\n",
       "min      61.000000\n",
       "25%      73.250000\n",
       "50%      78.000000\n",
       "75%      79.750000\n",
       "max      82.000000\n",
       "dtype: float64"
      ]
     },
     "execution_count": 18,
     "metadata": {},
     "output_type": "execute_result"
    }
   ],
   "source": [
    "temperatures.describe()"
   ]
  }
 ],
 "metadata": {
  "kernelspec": {
   "display_name": "Python 3 (ipykernel)",
   "language": "python",
   "name": "python3"
  },
  "language_info": {
   "codemirror_mode": {
    "name": "ipython",
    "version": 3
   },
   "file_extension": ".py",
   "mimetype": "text/x-python",
   "name": "python",
   "nbconvert_exporter": "python",
   "pygments_lexer": "ipython3",
   "version": "3.9.16"
  }
 },
 "nbformat": 4,
 "nbformat_minor": 5
}
