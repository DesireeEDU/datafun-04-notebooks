{
 "cells": [
  {
   "cell_type": "markdown",
   "id": "86b4acc6-37f7-4aae-b5fa-9818eba1c037",
   "metadata": {},
   "source": [
    "# Task 5. Desiree Thompson - Optional Bonus"
   ]
  },
  {
   "cell_type": "markdown",
   "id": "ba95e7f8-9d87-4c48-988b-0998a26c061c",
   "metadata": {},
   "source": [
    "February 4, 2023\n",
    "Practice working with STring Methods Jupyter Lab to work through specified examples to gain proficiency in this area"
   ]
  },
  {
   "cell_type": "code",
   "execution_count": 1,
   "id": "adeddf04-aa98-4329-9a3a-da16f65cc389",
   "metadata": {},
   "outputs": [],
   "source": [
    "import pandas as pd\n",
    "import re"
   ]
  },
  {
   "cell_type": "markdown",
   "id": "0541d186-eb8d-4904-b825-15cc055d1b01",
   "metadata": {},
   "source": [
    "Created a DataFrame"
   ]
  },
  {
   "cell_type": "code",
   "execution_count": 2,
   "id": "f456c18e-ce6b-44e8-89cf-4dbf98529e5a",
   "metadata": {},
   "outputs": [],
   "source": [
    "contacts = [['Mike Green', 'demol@deitel.com', '5555555555'], ['Sure Brown', 'demo2@deitel.com','5555555555']]"
   ]
  },
  {
   "cell_type": "code",
   "execution_count": 3,
   "id": "5fa244bf-b9c5-44aa-813c-c4130d2439d7",
   "metadata": {},
   "outputs": [],
   "source": [
    "contactsdf = pd.DataFrame(contacts,\n",
    "                          columns = ['Name', 'Email', 'Phone'])"
   ]
  },
  {
   "cell_type": "code",
   "execution_count": 4,
   "id": "70921c95-75e6-44b1-9e9b-d88832f61121",
   "metadata": {},
   "outputs": [
    {
     "data": {
      "text/html": [
       "<div>\n",
       "<style scoped>\n",
       "    .dataframe tbody tr th:only-of-type {\n",
       "        vertical-align: middle;\n",
       "    }\n",
       "\n",
       "    .dataframe tbody tr th {\n",
       "        vertical-align: top;\n",
       "    }\n",
       "\n",
       "    .dataframe thead th {\n",
       "        text-align: right;\n",
       "    }\n",
       "</style>\n",
       "<table border=\"1\" class=\"dataframe\">\n",
       "  <thead>\n",
       "    <tr style=\"text-align: right;\">\n",
       "      <th></th>\n",
       "      <th>Name</th>\n",
       "      <th>Email</th>\n",
       "      <th>Phone</th>\n",
       "    </tr>\n",
       "  </thead>\n",
       "  <tbody>\n",
       "    <tr>\n",
       "      <th>0</th>\n",
       "      <td>Mike Green</td>\n",
       "      <td>demol@deitel.com</td>\n",
       "      <td>5555555555</td>\n",
       "    </tr>\n",
       "    <tr>\n",
       "      <th>1</th>\n",
       "      <td>Sure Brown</td>\n",
       "      <td>demo2@deitel.com</td>\n",
       "      <td>5555555555</td>\n",
       "    </tr>\n",
       "  </tbody>\n",
       "</table>\n",
       "</div>"
      ],
      "text/plain": [
       "         Name             Email       Phone\n",
       "0  Mike Green  demol@deitel.com  5555555555\n",
       "1  Sure Brown  demo2@deitel.com  5555555555"
      ]
     },
     "execution_count": 4,
     "metadata": {},
     "output_type": "execute_result"
    }
   ],
   "source": [
    "contactsdf"
   ]
  },
  {
   "cell_type": "markdown",
   "id": "fd271be4-cb6a-476c-abb3-f730cdc2f814",
   "metadata": {},
   "source": [
    "Developed function to change the phone number format to ###-###-####"
   ]
  },
  {
   "cell_type": "code",
   "execution_count": 5,
   "id": "2fecd6d2-5b85-45e2-af7c-eb30d74bf985",
   "metadata": {},
   "outputs": [],
   "source": [
    "def get_formatted_phone(value):\n",
    "    result = re.fullmatch(r'(\\d{3})(\\d{3})(\\d{4})', value)\n",
    "    return '-'.join(result.groups()) if result else value"
   ]
  },
  {
   "cell_type": "markdown",
   "id": "afb6a859-d973-45be-8f61-8b00193b7502",
   "metadata": {},
   "source": [
    "Used the Series method map to apply the formatting to the \"Phone\" of the DataFrame"
   ]
  },
  {
   "cell_type": "code",
   "execution_count": 6,
   "id": "942b7818-a4b0-483c-9f26-163eb91e6b24",
   "metadata": {},
   "outputs": [],
   "source": [
    "formatted_phone = contactsdf['Phone'].map(get_formatted_phone)"
   ]
  },
  {
   "cell_type": "markdown",
   "id": "211dda48-bfaa-47f3-8587-3ad4d9f5d184",
   "metadata": {},
   "source": [
    "The formatted \"Phone\" is called"
   ]
  },
  {
   "cell_type": "code",
   "execution_count": 7,
   "id": "5ac02d88-2c8f-4701-ad52-719fba0b44b6",
   "metadata": {},
   "outputs": [
    {
     "data": {
      "text/plain": [
       "0    555-555-5555\n",
       "1    555-555-5555\n",
       "Name: Phone, dtype: object"
      ]
     },
     "execution_count": 7,
     "metadata": {},
     "output_type": "execute_result"
    }
   ],
   "source": [
    "formatted_phone"
   ]
  }
 ],
 "metadata": {
  "kernelspec": {
   "display_name": "py310",
   "language": "python",
   "name": "python3"
  },
  "language_info": {
   "codemirror_mode": {
    "name": "ipython",
    "version": 3
   },
   "file_extension": ".py",
   "mimetype": "text/x-python",
   "name": "python",
   "nbconvert_exporter": "python",
   "pygments_lexer": "ipython3",
   "version": "3.10.8"
  },
  "vscode": {
   "interpreter": {
    "hash": "9bdfed97188a22c56e91369721cb2415767fba974371afcf9e3aa00ae9def04c"
   }
  }
 },
 "nbformat": 4,
 "nbformat_minor": 5
}
